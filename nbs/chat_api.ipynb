{
 "cells": [
  {
   "cell_type": "code",
   "execution_count": null,
   "metadata": {},
   "outputs": [],
   "source": [
    "\n",
    "import os\n",
    "from dotenv import load_dotenv\n",
    "import pandas as pd\n",
    "import openai\n",
    "import tiktoken\n",
    "from tqdm import tqdm\n",
    "import numpy as np\n",
    "from openai.embeddings_utils import distances_from_embeddings\n",
    "\n",
    "\n",
    "load_dotenv()\n",
    "\n",
    "openai.api_key = os.getenv(\"OPENAI_API_KEY\")"
   ]
  },
  {
   "cell_type": "code",
   "execution_count": null,
   "metadata": {},
   "outputs": [],
   "source": [
    "%load_ext autoreload\n",
    "%autoreload 2"
   ]
  },
  {
   "attachments": {},
   "cell_type": "markdown",
   "metadata": {},
   "source": [
    "We'll use this notebook to explore using the Chat api instead of completion, which should improve performance and cost."
   ]
  },
  {
   "cell_type": "code",
   "execution_count": null,
   "metadata": {},
   "outputs": [],
   "source": [
    "\n",
    "def create_context(\n",
    "    question, df, max_len=1800, size=\"ada\"\n",
    "):\n",
    "    \"\"\"\n",
    "    Create a context for a question by finding the most similar context from the dataframe\n",
    "    \"\"\"\n",
    "\n",
    "    # Get the embeddings for the question\n",
    "    q_embeddings = openai.Embedding.create(input=question, engine='text-embedding-ada-002')['data'][0]['embedding']\n",
    "\n",
    "    # Get the distances from the embeddings\n",
    "    df['distances'] = distances_from_embeddings(q_embeddings, df['embeddings'].values, distance_metric='cosine')\n",
    "\n",
    "\n",
    "    returns = []\n",
    "    cur_len = 0\n",
    "\n",
    "    # Sort by distance and add the text to the context until the context is too long\n",
    "    for i, row in df.sort_values('distances', ascending=True).iterrows():\n",
    "        \n",
    "        # Add the length of the text to the current length\n",
    "        cur_len += row['n_tokens'] + 4\n",
    "        \n",
    "        # If the context is too long, break\n",
    "        if cur_len > max_len:\n",
    "            break\n",
    "        \n",
    "        # Else add it to the text that is being returned\n",
    "        returns.append(row[\"text\"])\n",
    "\n",
    "    # Return the context\n",
    "    return \"\\n\\n###\\n\\n\".join(returns)"
   ]
  },
  {
   "cell_type": "code",
   "execution_count": null,
   "metadata": {},
   "outputs": [],
   "source": [
    "\n",
    "\n",
    "def machine_risk_assessment(\n",
    "    question,\n",
    "    df,\n",
    "    model=\"text-davinci-003\",\n",
    "    max_len=1800,\n",
    "    size=\"ada\",\n",
    "    debug=False,\n",
    "    max_tokens=150,\n",
    "    stop_sequence=None\n",
    "):\n",
    "    \"\"\"\n",
    "    Answer a question based on the most similar context from the dataframe texts\n",
    "    \"\"\"\n",
    "\n",
    "    context = create_context(\n",
    "        question,\n",
    "        df,\n",
    "        max_len=max_len,\n",
    "        size=size,\n",
    "    )\n",
    "\n",
    "    missing_risk_prompt = f\"\"\" Using the information below on a missing person, decide on the appropriate risk grading for the person, from either\n",
    "- High risk\n",
    "- Medium risk\n",
    "- Low risk\n",
    "- no apparent risk\n",
    "\n",
    "Return your answer in the format: 'Graded as X risk, because of the below risk factors:\\n - Y \\n - Z \\n'\n",
    "\n",
    "Where X is your risk grading (high, medium, low, or no apparent risk) and Y and Z are a few sentences explaining the most important risks you have identified.\n",
    "\n",
    "if the question can't be answered based on the context, say \\\"I don't know\\\"\\n\\nContext: {context}\\n\\n---\\n\\nQuestion: {question}\\nAnswer:\"\"\",\n",
    "\n",
    "    # If debug, print the raw model response\n",
    "\n",
    "    \n",
    "    if debug:\n",
    "        print(\"Question:\\n\" + question)\n",
    "        print(\"Context:\\n\" + context)\n",
    "        print(\"\\n\\n\")\n",
    "\n",
    "    try:\n",
    "        # Create a completions using the question and context\n",
    "        response = openai.Completion.create(\n",
    "            prompt=missing_risk_prompt,\n",
    "            temperature=0,\n",
    "            max_tokens=max_tokens,\n",
    "            top_p=1,\n",
    "            frequency_penalty=0,\n",
    "            presence_penalty=0,\n",
    "            stop=stop_sequence,\n",
    "            model=model,\n",
    "        )\n",
    "\n",
    "        answer = response[\"choices\"][0][\"text\"].strip()\n",
    "        \n",
    "        return answer, context\n",
    "    except Exception as e:\n",
    "        print(e)\n",
    "        return \"\""
   ]
  },
  {
   "cell_type": "code",
   "execution_count": null,
   "metadata": {},
   "outputs": [
    {
     "data": {
      "text/html": [
       "<div>\n",
       "<style scoped>\n",
       "    .dataframe tbody tr th:only-of-type {\n",
       "        vertical-align: middle;\n",
       "    }\n",
       "\n",
       "    .dataframe tbody tr th {\n",
       "        vertical-align: top;\n",
       "    }\n",
       "\n",
       "    .dataframe thead th {\n",
       "        text-align: right;\n",
       "    }\n",
       "</style>\n",
       "<table border=\"1\" class=\"dataframe\">\n",
       "  <thead>\n",
       "    <tr style=\"text-align: right;\">\n",
       "      <th></th>\n",
       "      <th>text</th>\n",
       "      <th>n_tokens</th>\n",
       "      <th>embeddings</th>\n",
       "    </tr>\n",
       "  </thead>\n",
       "  <tbody>\n",
       "    <tr>\n",
       "      <th>4431</th>\n",
       "      <td>.police.uk app public order core principles an...</td>\n",
       "      <td>393</td>\n",
       "      <td>[0.002413947368040681, 0.016671480610966682, -...</td>\n",
       "    </tr>\n",
       "    <tr>\n",
       "      <th>849</th>\n",
       "      <td>To co-create the training with practitioner st...</td>\n",
       "      <td>419</td>\n",
       "      <td>[-0.010183705948293209, 0.008118431083858013, ...</td>\n",
       "    </tr>\n",
       "    <tr>\n",
       "      <th>6612</th>\n",
       "      <td>The goal of problem analysis is to help you id...</td>\n",
       "      <td>482</td>\n",
       "      <td>[0.010752184316515923, 0.018526222556829453, 0...</td>\n",
       "    </tr>\n",
       "    <tr>\n",
       "      <th>6068</th>\n",
       "      <td>Police data, investigation files, and intervie...</td>\n",
       "      <td>384</td>\n",
       "      <td>[0.01356875617057085, 0.009414355270564556, 0....</td>\n",
       "    </tr>\n",
       "    <tr>\n",
       "      <th>3432</th>\n",
       "      <td>Of a racialist nature means consisting of, or ...</td>\n",
       "      <td>486</td>\n",
       "      <td>[-0.012264551594853401, -0.008601714856922626,...</td>\n",
       "    </tr>\n",
       "    <tr>\n",
       "      <th>...</th>\n",
       "      <td>...</td>\n",
       "      <td>...</td>\n",
       "      <td>...</td>\n",
       "    </tr>\n",
       "    <tr>\n",
       "      <th>7261</th>\n",
       "      <td>.police.uk app armed policing deployment autho...</td>\n",
       "      <td>405</td>\n",
       "      <td>[-0.002368964720517397, 0.004855205304920673, ...</td>\n",
       "    </tr>\n",
       "    <tr>\n",
       "      <th>6941</th>\n",
       "      <td>.police.uk cdn cgi l email protection#2d485f47...</td>\n",
       "      <td>203</td>\n",
       "      <td>[-0.0013092802837491035, -0.01627718284726143,...</td>\n",
       "    </tr>\n",
       "    <tr>\n",
       "      <th>8758</th>\n",
       "      <td>.police.uk article neighbourhood policing week...</td>\n",
       "      <td>484</td>\n",
       "      <td>[0.003850934561342001, 0.014110091142356396, 0...</td>\n",
       "    </tr>\n",
       "    <tr>\n",
       "      <th>6055</th>\n",
       "      <td>The neighbourhood role also enabled me to prot...</td>\n",
       "      <td>488</td>\n",
       "      <td>[0.005274541676044464, 0.006226117257028818, -...</td>\n",
       "    </tr>\n",
       "    <tr>\n",
       "      <th>801</th>\n",
       "      <td>These are organised into the following three s...</td>\n",
       "      <td>488</td>\n",
       "      <td>[-0.00021213867876213044, 0.015380156226456165...</td>\n",
       "    </tr>\n",
       "  </tbody>\n",
       "</table>\n",
       "<p>7602 rows × 3 columns</p>\n",
       "</div>"
      ],
      "text/plain": [
       "                                                   text  n_tokens  \\\n",
       "4431  .police.uk app public order core principles an...       393   \n",
       "849   To co-create the training with practitioner st...       419   \n",
       "6612  The goal of problem analysis is to help you id...       482   \n",
       "6068  Police data, investigation files, and intervie...       384   \n",
       "3432  Of a racialist nature means consisting of, or ...       486   \n",
       "...                                                 ...       ...   \n",
       "7261  .police.uk app armed policing deployment autho...       405   \n",
       "6941  .police.uk cdn cgi l email protection#2d485f47...       203   \n",
       "8758  .police.uk article neighbourhood policing week...       484   \n",
       "6055  The neighbourhood role also enabled me to prot...       488   \n",
       "801   These are organised into the following three s...       488   \n",
       "\n",
       "                                             embeddings  \n",
       "4431  [0.002413947368040681, 0.016671480610966682, -...  \n",
       "849   [-0.010183705948293209, 0.008118431083858013, ...  \n",
       "6612  [0.010752184316515923, 0.018526222556829453, 0...  \n",
       "6068  [0.01356875617057085, 0.009414355270564556, 0....  \n",
       "3432  [-0.012264551594853401, -0.008601714856922626,...  \n",
       "...                                                 ...  \n",
       "7261  [-0.002368964720517397, 0.004855205304920673, ...  \n",
       "6941  [-0.0013092802837491035, -0.01627718284726143,...  \n",
       "8758  [0.003850934561342001, 0.014110091142356396, 0...  \n",
       "6055  [0.005274541676044464, 0.006226117257028818, -...  \n",
       "801   [-0.00021213867876213044, 0.015380156226456165...  \n",
       "\n",
       "[7602 rows x 3 columns]"
      ]
     },
     "execution_count": null,
     "metadata": {},
     "output_type": "execute_result"
    }
   ],
   "source": [
    "df = pd.read_parquet('processed/embeddings.parquet')\n",
    "df"
   ]
  },
  {
   "cell_type": "code",
   "execution_count": null,
   "metadata": {},
   "outputs": [
    {
     "data": {
      "text/plain": [
       "'Graded as High risk, because of the below risk factors: \\n- Yannik is a 15 year old boy who has been reported missing by his parents\\n- His friends are worried he may be depressed\\n- He has expressed suicidal ideation to one of his friends'"
      ]
     },
     "execution_count": null,
     "metadata": {},
     "output_type": "execute_result"
    }
   ],
   "source": [
    "about_yannik = \"\"\" Yannik is a 15 year old boy. He has recently been down, and was reported missing by his parents as he did not return home from school today.\n",
    "\n",
    "His friends are worried he may be depressed, and when he apparently told one a few days ago 'if it doesn't get any better, I'm going to end it soon'\n",
    "\"\"\"\n",
    "\n",
    "yannik_answer, yannik_context = machine_risk_assessment(about_yannik, df)\n",
    "yannik_answer"
   ]
  },
  {
   "attachments": {},
   "cell_type": "markdown",
   "metadata": {},
   "source": [
    "Now let's modify our code to use the chat api.  Below we have the test API call\n",
    "."
   ]
  },
  {
   "cell_type": "code",
   "execution_count": null,
   "metadata": {},
   "outputs": [
    {
     "data": {
      "text/plain": [
       "<OpenAIObject chat.completion id=chatcmpl-734PYCs3fvPxVf68NVINq4wOIu6xK> JSON: {\n",
       "  \"choices\": [\n",
       "    {\n",
       "      \"finish_reason\": \"stop\",\n",
       "      \"index\": 0,\n",
       "      \"message\": {\n",
       "        \"content\": \"The 2020 World Series was played at Globe Life Field in Arlington, Texas.\",\n",
       "        \"role\": \"assistant\"\n",
       "      }\n",
       "    }\n",
       "  ],\n",
       "  \"created\": 1680966296,\n",
       "  \"id\": \"chatcmpl-734PYCs3fvPxVf68NVINq4wOIu6xK\",\n",
       "  \"model\": \"gpt-3.5-turbo-0301\",\n",
       "  \"object\": \"chat.completion\",\n",
       "  \"usage\": {\n",
       "    \"completion_tokens\": 17,\n",
       "    \"prompt_tokens\": 57,\n",
       "    \"total_tokens\": 74\n",
       "  }\n",
       "}"
      ]
     },
     "execution_count": null,
     "metadata": {},
     "output_type": "execute_result"
    }
   ],
   "source": [
    "# Note: you need to be using OpenAI Python v0.27.0 for the code below to work\n",
    "import openai\n",
    "\n",
    "test_response = openai.ChatCompletion.create(\n",
    "  model=\"gpt-3.5-turbo\",\n",
    "  messages=[\n",
    "        {\"role\": \"system\", \"content\": \"You are a helpful assistant.\"},\n",
    "        {\"role\": \"user\", \"content\": \"Who won the world series in 2020?\"},\n",
    "        {\"role\": \"assistant\", \"content\": \"The Los Angeles Dodgers won the World Series in 2020.\"},\n",
    "        {\"role\": \"user\", \"content\": \"Where was it played?\"}\n",
    "    ]\n",
    ")\n",
    "\n",
    "test_response"
   ]
  },
  {
   "attachments": {},
   "cell_type": "markdown",
   "metadata": {},
   "source": [
    "So, we need to decide how to fill in our bits of context. Of note, the OpenAI docs say the system messages aren't always picked up... we can expirtment. Let's start with testing using the system messages to define role and response format."
   ]
  },
  {
   "cell_type": "code",
   "execution_count": null,
   "metadata": {},
   "outputs": [],
   "source": [
    "copbot_chat_content = '''\n",
    "You are CopBot, an assistant designed to help police officers risk assess missing persons.\n",
    "\n",
    "Using the information provide on a missing person, you will decide on the appropriate risk grading for the person, from either\n",
    "- No apparent risk (when there is no apparent risk of harm to either the subject or the public.)\n",
    "- Low risk (when the risk of harm to the subject or the public is assessed as possible but minimal)\n",
    "- Medium risk (when the risk of harm to the subject or the public is assessed as likely but not serious.)\n",
    "- High risk (when the risk of serious harm to the subject or the public is assessed as very likely.)\n",
    "\n",
    "Risk assessment should be guided by the College of Policing Risk principles.\n",
    "\n",
    "Return your answer in the format: 'Graded as X risk, because of the below risk factors:\\n - Y \\n - Z \\n'\n",
    "\n",
    "Where X is your risk grading (high, medium, low, or no apparent risk) and Y and Z are a few sentences explaining the most important risks you have identified.\n",
    "\n",
    "if the question can't be answered based on the context, say \\\"I don't know\\\"'''\n"
   ]
  },
  {
   "attachments": {},
   "cell_type": "markdown",
   "metadata": {},
   "source": [
    "It looks like our content will be what was previously our context, so we'll modify our code to use that."
   ]
  },
  {
   "cell_type": "code",
   "execution_count": null,
   "metadata": {},
   "outputs": [],
   "source": [
    "\n",
    "def create_chat_assistant_content(\n",
    "    question, df, max_len=1800, size=\"ada\"\n",
    "):\n",
    "    \"\"\"\n",
    "    Create a context for a question by finding the most similar context from the dataframe\n",
    "    \"\"\"\n",
    "\n",
    "    # Get the embeddings for the question\n",
    "    q_embeddings = openai.Embedding.create(input=question, engine='text-embedding-ada-002')['data'][0]['embedding']\n",
    "\n",
    "    # Get the distances from the embeddings\n",
    "    df['distances'] = distances_from_embeddings(q_embeddings, df['embeddings'].values, distance_metric='cosine')\n",
    "\n",
    "\n",
    "    returns = [\"Here is some relevant guidance and documentation from the College of Policing\"]\n",
    "    cur_len = 0\n",
    "\n",
    "    # Sort by distance and add the text to the context until the context is too long\n",
    "    for i, row in df.sort_values('distances', ascending=True).iterrows():\n",
    "        \n",
    "        # Add the length of the text to the current length\n",
    "        cur_len += row['n_tokens'] + 4\n",
    "        \n",
    "        # If the context is too long, break\n",
    "        if cur_len > max_len:\n",
    "            break\n",
    "        \n",
    "        # Else add it to the text that is being returned\n",
    "        returns.append(row[\"text\"])\n",
    "\n",
    "    # Return the context\n",
    "    return \"\\n\\n###\\n\\n\".join(returns)"
   ]
  },
  {
   "cell_type": "code",
   "execution_count": null,
   "metadata": {},
   "outputs": [
    {
     "data": {
      "text/plain": [
       "\"Here is some relevant guidance and documentation from the College of Policing\\n\\n###\\n\\n First published 22 November 2016  Updated 15 March 2023   Latest changes  Written by College of Policing  Missing persons  30 mins read   Implications for the UK leaving the European Union are currently under review – please see\\xa0APP\\xa0on international investigation\\xa0for latest available detail on specific areas, for example: Schengen Information System Europol INTERPOL Joint Investigation Teams This section provides additional information to aid the investigation based on the vulnerability of the individual and the circumstances in which they are missing. Missing children Safeguarding young and vulnerable people is a responsibility of the police service and partner agencies (see\\xa0Children Act 2004). When the police are notified that a child is missing, there is a clear responsibility on them to prevent the child from coming to harm. Where appropriate, a strategy meeting may be held. For further information see: Voice of the child\\xa0 Voice of the child practice briefing\\xa0 Section 11 of the Children Act 2004 Department for Education (2014) Statutory guidance on children who run away or go missing from home or care Children’s Views on being Reported Missing from Care Young people and risky behaviour Children and young people often do not have the same levels of awareness or ability to keep themselves safe as adults. Going missing may indicate that something is wrong in their lives. Many of the children and young people who repeatedly go missing are considered by some to be ‘streetwise’ and able to look after themselves. However, these children may not understand the risk they are exposing themselves to, and should not be treated as low/no apparent risk simply due to their apparent willingness/complicity. Children\\xa0may put themselves in danger because they may have been abused, neglected or rejected by their families or others and,\\xa0as a result, they may engage in further risky behaviours, such as: misusing substances committing crimes having risky sexual contacts living on the streets mixing with inappropriate adults Information relevant to the child When a missing person report relates to a looked-after child, it is important to\\xa0work with all the agencies and carers\\xa0that\\xa0have been\\xa0in regular contact with the child as they\\xa0may have information about the child that might help to locate them. When a child is missing from care, close engagement with the carers is important.\\n\\n###\\n\\nIt’s also been raining heavily in the night and we have further calls about flooding in the road, so we ring Highways to inform them. I have a little smile to myself as I remember a call in the summer about cars stopping on the M11 because a mother duck and her ducklings were crossing the road. Lunchtime looms. I’m feeling hungry, but that disappears when I take a call from a 16-year-old male, who tells me that he can’t cope any more. He has cut himself with a knife but he doesn’t want to die. His sister has just had a baby. This goes on an emergency straight away, and officers are dispatched within three minutes. I have to talk to him about anything I can to distract him from his misery – luckily, I am good at small talk! Officers arrive and I feel relief as I can hang up the phone. COVID-19 has really affected Essex this year. People are low and weary. You can hear it in their voices. The number of mental health incidents has gone through the roof, and even the force control room team is quieter. Because of\\xa0the onset of lockdown restrictions, more calls are coming in from the public reporting their neighbours for flouting the rules: 'We’re following the rules, why don’t they? What makes them think they are special?'\\xa0 Gone are the past calls about drunken people leaving the pub. Instead, we have members of the public who are tired of being tied to the house and resentful of those who ignore the restrictions. After lunch, we receive a flurry of calls. There’s a domestic, involving a woman who tells me that ‘he didn’t mean to hit me, he loves me’. I spend time with this caller. There are three horses in the road. A driver has hit a dog and is upset, so I reassure him it wasn’t his fault. It gets busier. Essex is up and running but I am not. I feel tired but this is my job, so I make sure that nobody will hear it in my voice. Finally, it’s time to go home and hang up the headset for another day. I tend not to reflect on my day too much, so I can have some time to myself. There is no typical day in the control room.\\n\\n###\\n\\nPolice officers should ask the care home or local authority for details of the child’s risk assessment so that it can be taken into account during the investigation.\\xa0Many forces are using the Philomena Protocol to guide their actions in relation to relevant cases involving children. A child, especially a teenager, is unlikely to share all information about their life with their parents or carers. Investigators should not overlook information from siblings, friends, associates, school teachers and others. The online activity of the child may also provide valuable additional information which parents and carers may not be aware of. For further information see: Children's views on being reported missing from care\\xa0 No Place at Home - Risks facing children and young people who go missing from out of area placements Child Rescue Alert Child Rescue Alert\\xa0(CRA) – (available to authorised users logged on to the restricted online\\xa0College Learn) is a partnership between the police and the media which seeks public assistance when it is feared that a child may be at risk of serious harm. Assistance is sought via TV, radio, text messaging, social and digital media (including the internet) so that relevant information relating to the child, offender or any specified vehicle is passed on to the police. CRA\\xa0focuses on the risk to the child, rather than whether or not an offence has taken place. The criteria for launching an alert is: The child is apparently under 18 years old There is a perception that the child is in imminent danger of serious harm or death There is sufficient information available to enable the public to assist police in locating the child Child Rescue Alert Activation Protocol\\xa0(available to authorised users logged on to the restricted online\\xa0College Learn) The\\xa0CRA\\xa0has been expanded to enable alerts to be disseminated by the charity Missing People. The system is managed by the National Crime\\xa0Agency (NCA) and specialist advice is available 24/7 by contacting 0800\\xa0234 6034.\\n\\n###\\n\\nThis is particularly true to the Greater Manchester area. As a result, this research seeks to utilise this appeal in providing a platform for young people who have received a Threats to Life Notice and children to parents who have received a Threat to Life Notice, in order to steer them away from potential criminal activity and receive mentoring through football coaching, education and employability skills. Operationally, this would seek to provide tactical options in the short and long-term in instances where a young person (under the age of 18) is particularly vulnerable as either a victim or perpetrator of criminal behaviour, and potentially reduce the threat, risk and harm pertaining to such individuals. The key aims are: to develop the individuals in the cohort with regards to qualifications, personal wellbeing, skill development, employability and social action (part of their local community and their perception of their community) – this in turn will potentially reduce the impact of trauma and increase confidence and self-esteem of the cohort to reduce the effects of adverse childhood experiences through re-sensitisation and raising awareness that adverse childhood experiences should not be considered the norm to understand and improve the delivery and impact of Threats to Life on young people to inform police forces on the best possible process and follow-on actions needed when delivering Threats to Life Notices  Research methodology A cohort of 16 young people between the ages of 13 to 18 will be identified through GMP’s systems who have either directly received a Threat to Life Notice in the past 12 months, or are children to a parent(s) who have received a Threat to Life Notice in the past 12 months. Their details will then be given to the mentors at the Manchester United Youth Foundation who then make contact through post in the first instance to invite the young person into the scheme. More individuals will be invited into the scheme as it progresses to ensure a minimum of 16 participants at any given stage (catering for any refusals to be involved or disengagement).\""
      ]
     },
     "execution_count": null,
     "metadata": {},
     "output_type": "execute_result"
    }
   ],
   "source": [
    "yannik_assistant_content = create_chat_assistant_content(about_yannik, df)\n",
    "yannik_assistant_content"
   ]
  },
  {
   "attachments": {},
   "cell_type": "markdown",
   "metadata": {},
   "source": [
    "Right, that seems to work.  We now have user settings and content defined. Let's try our first API call."
   ]
  },
  {
   "cell_type": "code",
   "execution_count": null,
   "metadata": {},
   "outputs": [
    {
     "data": {
      "text/plain": [
       "\" Yannik is a 15 year old boy. He has recently been down, and was reported missing by his parents as he did not return home from school today.\\n\\nHis friends are worried he may be depressed, and when he apparently told one a few days ago 'if it doesn't get any better, I'm going to end it soon'\\n\""
      ]
     },
     "execution_count": null,
     "metadata": {},
     "output_type": "execute_result"
    }
   ],
   "source": [
    "about_yannik"
   ]
  },
  {
   "cell_type": "code",
   "execution_count": null,
   "metadata": {},
   "outputs": [
    {
     "data": {
      "text/plain": [
       "<OpenAIObject chat.completion id=chatcmpl-734cnqHtj5vmtx1RxZtZT8RhUkgbQ> JSON: {\n",
       "  \"choices\": [\n",
       "    {\n",
       "      \"finish_reason\": \"stop\",\n",
       "      \"index\": 0,\n",
       "      \"message\": {\n",
       "        \"content\": \"Graded as high risk because of the below risk factors:\\n\\n- The missing person is a 15-year-old boy who might be suffering from depression.\\n- He was reported missing by his parents, who may have concerns about his mental state.\\n- According to one of his friends, he expressed suicidal thoughts a few days before going missing.\\n\\nAny missing person report involving a potential mental health emergency should be treated as high risk. The fact that Yannik is a teenager and may not have fully developed coping mechanisms adds to the seriousness of the situation. As such, every possible measure should be taken to locate him as quickly as possible, and his current state of mind should be taken into account in any interactions with him.\",\n",
       "        \"role\": \"assistant\"\n",
       "      }\n",
       "    }\n",
       "  ],\n",
       "  \"created\": 1680967117,\n",
       "  \"id\": \"chatcmpl-734cnqHtj5vmtx1RxZtZT8RhUkgbQ\",\n",
       "  \"model\": \"gpt-3.5-turbo-0301\",\n",
       "  \"object\": \"chat.completion\",\n",
       "  \"usage\": {\n",
       "    \"completion_tokens\": 143,\n",
       "    \"prompt_tokens\": 2049,\n",
       "    \"total_tokens\": 2192\n",
       "  }\n",
       "}"
      ]
     },
     "execution_count": null,
     "metadata": {},
     "output_type": "execute_result"
    }
   ],
   "source": [
    "# Note: you need to be using OpenAI Python v0.27.0 for the code below to work\n",
    "import openai\n",
    "\n",
    "test_response = openai.ChatCompletion.create(\n",
    "  model=\"gpt-3.5-turbo\",\n",
    "  messages=[\n",
    "        {\"role\": \"system\", \"content\": copbot_chat_content},\n",
    "        {\"role\": \"user\", \"content\": about_yannik},\n",
    "        {\"role\": \"assistant\", \"content\": yannik_assistant_content},\n",
    "    ]\n",
    ")\n",
    "\n",
    "test_response"
   ]
  },
  {
   "attachments": {},
   "cell_type": "markdown",
   "metadata": {},
   "source": [
    "I think that worked!  Let's build it into a funciton"
   ]
  },
  {
   "cell_type": "code",
   "execution_count": null,
   "metadata": {},
   "outputs": [
    {
     "data": {
      "text/plain": [
       "<OpenAIObject chat.completion id=chatcmpl-734i2Qfm8STXFjPV66rQYhFcRUqmV> JSON: {\n",
       "  \"choices\": [\n",
       "    {\n",
       "      \"finish_reason\": \"stop\",\n",
       "      \"index\": 0,\n",
       "      \"message\": {\n",
       "        \"content\": \"Graded as high risk, because of the following risk factors:\\n- Yannik has been reported missing after expressing suicidal ideation.\\n- Yannik is a minor and his mental health is at risk, and he may not have the capacity to make decisions that ensure his safety. \\n- The risk of harm to the public is low, but the risk of harm to the subject, Yannik, is very high.\\n- It is imperative the police issue an immediate alert and work with Yannik's parents, school and other agencies who may have knowledge of his current location to swiftly locate him and provide mental health support, to help ensure his safety.\",\n",
       "        \"role\": \"assistant\"\n",
       "      }\n",
       "    }\n",
       "  ],\n",
       "  \"created\": 1680967442,\n",
       "  \"id\": \"chatcmpl-734i2Qfm8STXFjPV66rQYhFcRUqmV\",\n",
       "  \"model\": \"gpt-3.5-turbo-0301\",\n",
       "  \"object\": \"chat.completion\",\n",
       "  \"usage\": {\n",
       "    \"completion_tokens\": 133,\n",
       "    \"prompt_tokens\": 2049,\n",
       "    \"total_tokens\": 2182\n",
       "  }\n",
       "}"
      ]
     },
     "execution_count": null,
     "metadata": {},
     "output_type": "execute_result"
    }
   ],
   "source": [
    "# Note: you need to be using OpenAI Python v0.27.0 for the code below to work\n",
    "import openai\n",
    "\n",
    "test_response = openai.ChatCompletion.create(\n",
    "  model=\"gpt-3.5-turbo\",\n",
    "  messages=[\n",
    "        {\"role\": \"system\", \"content\": copbot_chat_content},\n",
    "        {\"role\": \"user\", \"content\": about_yannik},\n",
    "        {\"role\": \"assistant\", \"content\": yannik_assistant_content},\n",
    "    ]\n",
    ")\n",
    "\n",
    "test_response"
   ]
  },
  {
   "cell_type": "code",
   "execution_count": null,
   "metadata": {},
   "outputs": [
    {
     "data": {
      "text/plain": [
       "\"Graded as high risk, because of the following risk factors:\\n- Yannik has been reported missing after expressing suicidal ideation.\\n- Yannik is a minor and his mental health is at risk, and he may not have the capacity to make decisions that ensure his safety. \\n- The risk of harm to the public is low, but the risk of harm to the subject, Yannik, is very high.\\n- It is imperative the police issue an immediate alert and work with Yannik's parents, school and other agencies who may have knowledge of his current location to swiftly locate him and provide mental health support, to help ensure his safety.\""
      ]
     },
     "execution_count": null,
     "metadata": {},
     "output_type": "execute_result"
    }
   ],
   "source": [
    "test_response['choices'][0]['message']['content']"
   ]
  },
  {
   "attachments": {},
   "cell_type": "markdown",
   "metadata": {},
   "source": [
    "I'm also going to increase our context length, given we're using the discounted gpt3.5"
   ]
  },
  {
   "cell_type": "code",
   "execution_count": null,
   "metadata": {},
   "outputs": [],
   "source": [
    "\n",
    "def create_chat_assistant_content(\n",
    "    question, df, max_len=3600, size=\"ada\"\n",
    "):\n",
    "    \"\"\"\n",
    "    Create a context for a question by finding the most similar context from the dataframe\n",
    "    \"\"\"\n",
    "\n",
    "    # Get the embeddings for the question\n",
    "    q_embeddings = openai.Embedding.create(input=question, engine='text-embedding-ada-002')['data'][0]['embedding']\n",
    "\n",
    "    # Get the distances from the embeddings\n",
    "    df['distances'] = distances_from_embeddings(q_embeddings, df['embeddings'].values, distance_metric='cosine')\n",
    "\n",
    "\n",
    "    returns = [\"Here is some relevant guidance and documentation from the College of Policing\"]\n",
    "    cur_len = 0\n",
    "\n",
    "    # Sort by distance and add the text to the context until the context is too long\n",
    "    for i, row in df.sort_values('distances', ascending=True).iterrows():\n",
    "        \n",
    "        # Add the length of the text to the current length\n",
    "        cur_len += row['n_tokens'] + 4\n",
    "        \n",
    "        # If the context is too long, break\n",
    "        if cur_len > max_len:\n",
    "            break\n",
    "        \n",
    "        # Else add it to the text that is being returned\n",
    "        returns.append(row[\"text\"])\n",
    "\n",
    "    # Return the context\n",
    "    return \"\\n\\n###\\n\\n\".join(returns)\n",
    "\n",
    "def copbot_chat_risk_assessment(individual_circumstances, df, show_return_details=False, show_context=False):\n",
    "    \"\"\"Takes a user input string about the individual circumstances of a missing person, and returns a risk assessment\"\"\"\n",
    "\n",
    "    individual_context = create_chat_assistant_content(individual_circumstances, df)\n",
    "\n",
    "\n",
    "    openai_response = openai.ChatCompletion.create(\n",
    "    model=\"gpt-3.5-turbo\",\n",
    "    messages=[\n",
    "            {\"role\": \"system\", \"content\": copbot_chat_content},\n",
    "            {\"role\": \"user\", \"content\": individual_circumstances},\n",
    "            {\"role\": \"assistant\", \"content\": individual_context},\n",
    "        ]\n",
    "    )\n",
    "\n",
    "    if show_context:\n",
    "        print(individual_context)\n",
    "        print('\\n\\n\\n')\n",
    "\n",
    "    if show_return_details:\n",
    "        print(openai_response)\n",
    "        print('\\n\\n\\n')\n",
    "\n",
    "    return openai_response['choices'][0]['message']['content']\n",
    "\n",
    "    "
   ]
  },
  {
   "attachments": {},
   "cell_type": "markdown",
   "metadata": {},
   "source": [
    "Let's test that on some of our previous examples."
   ]
  },
  {
   "cell_type": "code",
   "execution_count": null,
   "metadata": {},
   "outputs": [],
   "source": [
    "margaret_risk_profile = \"\"\" Margaret is a 97 year old woman with severe dementia from Twickenham. She lives in supported accomodation, but regularly goes missing, as she walks out when left unsupervised.\n",
    "\n",
    "She has been missing 6 hours, and it is now 2200.  It is getting dark, and staff are saying she is rarely missing this long\"\"\"\n",
    "\n",
    "jason_risk_profile = \"\"\" Jason is a 15 year old adult male, who has gone missing from his care home in Southwark. His carer has contacted the school, which has said he was not in today.\n",
    "They that this is not the first time, and that Jason has been seen hanging out with older boys, who may be involved in crime and drugs.\"\"\"\n",
    "\n",
    "john_risk_profile = \"\"\"John Smith is a 31 year old man who has been missing for 5 hours. He went to work as normal this morning, and has not returned home, and his partner is concerned. There are no signs of foul play, no vulnerabilities. John is in good health, the weather is good, and there are no concerns for his welfare.\"\"\"\n"
   ]
  },
  {
   "cell_type": "code",
   "execution_count": null,
   "metadata": {},
   "outputs": [
    {
     "name": "stdout",
     "output_type": "stream",
     "text": [
      "Here is some relevant guidance and documentation from the College of Policing\n",
      "\n",
      "###\n",
      "\n",
      ".police.uk research projects maximizing effectiveness police scotland investigations when people living dementia go missing.            Maximizing the effectiveness of Police Scotland investigations when people living with dementia go missing | College of Policing             Sorry, you need to enable JavaScript to visit this website.    Skip to content Jump to search         Menu      Secondary navigation About us News & views Contact us  Search Search     Main navigation Policing guidance Research Career & learning Support for forces Ethics     Breadcrumb Home Research Research projects map           Maximizing the effectiveness of Police Scotland investigations when people living with dementia go missing            Maximizing the effectiveness of Police Scotland investigations when people living with dementia go missing         On this page     This research aims to explore the effectiveness of searches for people living with dementia who are reported as missing. Key details             Lead institution            Queen Margaret University             Principal researcher(s)            Alistair Shields [email protected]             Police region                   Scotland                    Level of research                   PhD                    Project start date            September 2018             Date due for completion            January 2023  Research context In Scotland annually there are approximately 530 missing person incidents reported to the police for people living with dementia. These incidents are emotionally distressing for the families and caregivers who do not know the whereabouts of the reported person. For the person living with dementia the consequences of being missing worsen with the passage of time. It has been suggested that when reported as missing the person travels toward a place orientated to their past. The knowledge of such locations to inform police investigations, when someone is reported as missing, is commonly not available. Aim For people living with dementia who are reported as missing to improve search effectiveness by better defining areas where police should search.\n",
      "\n",
      "###\n",
      "\n",
      " First published 22 November 2016  Updated 15 March 2023   Latest changes  Written by College of Policing  Missing persons  30 mins read   Implications for the UK leaving the European Union are currently under review – please see APP on international investigation for latest available detail on specific areas, for example: Schengen Information System Europol INTERPOL Joint Investigation Teams This section provides additional information to aid the investigation based on the vulnerability of the individual and the circumstances in which they are missing. Missing children Safeguarding young and vulnerable people is a responsibility of the police service and partner agencies (see Children Act 2004). When the police are notified that a child is missing, there is a clear responsibility on them to prevent the child from coming to harm. Where appropriate, a strategy meeting may be held. For further information see: Voice of the child  Voice of the child practice briefing  Section 11 of the Children Act 2004 Department for Education (2014) Statutory guidance on children who run away or go missing from home or care Children’s Views on being Reported Missing from Care Young people and risky behaviour Children and young people often do not have the same levels of awareness or ability to keep themselves safe as adults. Going missing may indicate that something is wrong in their lives. Many of the children and young people who repeatedly go missing are considered by some to be ‘streetwise’ and able to look after themselves. However, these children may not understand the risk they are exposing themselves to, and should not be treated as low/no apparent risk simply due to their apparent willingness/complicity. Children may put themselves in danger because they may have been abused, neglected or rejected by their families or others and, as a result, they may engage in further risky behaviours, such as: misusing substances committing crimes having risky sexual contacts living on the streets mixing with inappropriate adults Information relevant to the child When a missing person report relates to a looked-after child, it is important to work with all the agencies and carers that have been in regular contact with the child as they may have information about the child that might help to locate them. When a child is missing from care, close engagement with the carers is important.\n",
      "\n",
      "###\n",
      "\n",
      "Threshold for referral of missing persons: the individual is a ‘repeat missing person’, (reported as missing three times in a rolling 90 day period) the individual has experienced, or is likely to experience significant harm for children, the parent or carer appears unable or unwilling to work to support and meet the needs of a child that has gone missing. The Protection Procedures also recommend that there is very close working between children's social care and policing to ensure that all investigations are undertaken efficiently and without duplication of effort. Where appropriate, a multi-agency meeting is convened after a child has been missing from home or care for more than seven days, or has been missing on more than three occasions in a twelve month period. While standard thresholds for referral may be useful, senior officers will want to be sure that a process is in place to ensure cases are recognised which may require a greater safeguarding response before the threshold has been reached. For example, individuals reported missing for the first time where significant risks have been identified should be referred immediately for multi-agency support, without requiring further reports. For further information see HM Government (2018) Working together to safeguard children: A guide to inter-agency working to safeguard and promote the welfare of children. Prevention and intervention strategies Collecting and analysing data about cases will help the police and other agencies to understand whether there are any patterns related to missing persons incidents. The results of routine data analysis should be shared to inform the development and review of prevention and intervention strategies. Missing Persons Coordinators are vital for this information analysis and sharing. Interventions might include, for example, the use of Child Abduction Warning Notices, or referrals to support services. It is important that such interventions take place in appropriate circumstances and are not used as a single response when a person is at risk of harm, but form one strand of a more comprehensive approach. Regular liaison between neighbourhood policing teams and children’s and adults’ care providers may enable relationships to be developed between police officers, the staff of care establishments, and individuals who are looked after. These relationships may then support effective police intervention and the speedy resolution of cases. For lessons from other cases, see IOPC Learning the Lesson. Understanding the reasons for going missing Understanding the reasons why an individual went missing may help to prevent future harm to those individuals. The officers in charge of local areas should have clear plans on how they intend to reduce the number of people who go missing in their area.\n",
      "\n",
      "###\n",
      "\n",
      "It’s also been raining heavily in the night and we have further calls about flooding in the road, so we ring Highways to inform them. I have a little smile to myself as I remember a call in the summer about cars stopping on the M11 because a mother duck and her ducklings were crossing the road. Lunchtime looms. I’m feeling hungry, but that disappears when I take a call from a 16-year-old male, who tells me that he can’t cope any more. He has cut himself with a knife but he doesn’t want to die. His sister has just had a baby. This goes on an emergency straight away, and officers are dispatched within three minutes. I have to talk to him about anything I can to distract him from his misery – luckily, I am good at small talk! Officers arrive and I feel relief as I can hang up the phone. COVID-19 has really affected Essex this year. People are low and weary. You can hear it in their voices. The number of mental health incidents has gone through the roof, and even the force control room team is quieter. Because of the onset of lockdown restrictions, more calls are coming in from the public reporting their neighbours for flouting the rules: 'We’re following the rules, why don’t they? What makes them think they are special?'  Gone are the past calls about drunken people leaving the pub. Instead, we have members of the public who are tired of being tied to the house and resentful of those who ignore the restrictions. After lunch, we receive a flurry of calls. There’s a domestic, involving a woman who tells me that ‘he didn’t mean to hit me, he loves me’. I spend time with this caller. There are three horses in the road. A driver has hit a dog and is upset, so I reassure him it wasn’t his fault. It gets busier. Essex is up and running but I am not. I feel tired but this is my job, so I make sure that nobody will hear it in my voice. Finally, it’s time to go home and hang up the headset for another day. I tend not to reflect on my day too much, so I can have some time to myself. There is no typical day in the control room.\n",
      "\n",
      "###\n",
      "\n",
      "We have protected training days throughout the year, but it’s also each handler’s responsibility to maintain the dogs’ skills and abilities. Jack is yet to start his formal training but comes out with Annie, so that he gets used to the working day, as well as the sounds and movement of the car. When we get some downtime, he loves to play with Annie. After another walk and some training, we get out on patrol. We may be directed by our sergeant towards a particular area, based on the daily intelligence briefing or operational control strategy. Otherwise, we can patrol anywhere within the force footprint. The sarge shouts up on our back-to-back dog radio and asks us to attend a report of three pit bulls fighting in the street. Ideally, we should have two handlers per one dog, but often there are only three of us on duty on a day shift, so we have to work well as a team and think outside the box. We manage to safely contain the dogs using our dangerous dog kit and tactics. The dogs are seized on suspicion of being banned breeds and the owner is dealt with. Thankfully, no one has been injured. Next up is an elderly female with dementia, who has walked out of her care home. I make my way to the location as quickly as possible and set Annie up to begin tracking the woman from where she was last seen walking into some woods. It has rained recently and it’s cool, so the conditions are good for Annie to pick up the scent. She begins to track and picks up the scent, only for us to hear that the woman has been found nearby by a family member. This confirms that Annie was right and was hot on her heels – always trust your dog! Then it’s another walk and lunch for me – if there’s time. I overhear of a nearby burglary where the offender has made off. By the time I arrive, the offender has been detained but there is some outstanding stolen property. Annie conducts a property search and locates the items hidden in a bush, so the male can be dealt with fully for the offences he has committed. And Annie gets rewarded with her ball! Shortly after, another job comes in. A man has just violently attacked his ex-partner and is walking away from the address. I am only around the corner. Driving down the road, I see him and tell him to stay where he is. He takes one look at Annie and knows this is a fight he won’t win.\n",
      "\n",
      "###\n",
      "\n",
      ".police.uk research projects institution queen margaret university.            Queen Margaret University | College of Policing             Sorry, you need to enable JavaScript to visit this website.    Skip to content Jump to search         Menu      Secondary navigation About us News & views Contact us  Search Search     Main navigation Policing guidance Research Career & learning Support for forces Ethics     Breadcrumb Home Research Research projects map           Institution                 Queen Margaret University            Queen Margaret University         On this page     Research projects submitted by Queen Margaret University. Website: https://www.qmu.ac.uk/ Queen Margaret University is a university founded in 1875 and located in Edinburgh, Scotland. Research projects at Queen Margaret University  Project title Start date  Maximizing the effectiveness of Police Scotland investigations when people living with dementia go missing September 2018 Determining boundary conditions of the weapon focus effect September 2015    Back to all projects      Was this page useful?  Yes  No   Do not provide personal information such as your name or email address in the feedback form. Read our privacy policy for more information on how we use this data  What is the reason for your answer?  I couldn't find what I was looking for  I couldn't find what I was looking for  The information wasn't relevant to me  The information wasn't relevant to me  The information is too complicated  The information is too complicated  Other  Other   Add a comment (optional)       Leave this field blank             Footer Privacy policy Cookie policy Accessibility statement Diversity statement Copyright statement Content disclaimer Feedback Complaints       © College of Policing. All content (excluding logos and photographs) is available under the Non-Commercial College Licence except where otherwise stated. (2023).                 \n",
      "\n",
      "###\n",
      "\n",
      " First published 22 November 2016  Updated 16 February 2023   Latest changes  Written by College of Policing  Missing persons  11 mins read   Introduction Going missing should be treated as an indicator that the individual may be at risk of harm. The safeguarding of vulnerable people is paramount and a missing person report should be recognised as an opportunity to identify and address risks. The reasons for a person deciding to go missing may be complex and linked to a variety of social or family issues. Three key factors should be considered in a missing person investigation: protecting those at risk of harm minimising distress and ensuring high quality of service to the families and carers of missing persons prosecuting those who perpetrate harm or pose a risk of harm when this is appropriate and supported by evidence Support for law enforcement agencies Police investigators can contact the following specialists for advice and assistance in missing and unidentified person investigations. UK Missing Persons Unit (UKMPU) on 0800 234 6034 NCA Major Crime Investigative Support (MCIS) on 0345 000 5463 Definition of ‘missing’ Anyone whose whereabouts cannot be established will be considered as missing until located, and their well-being or otherwise confirmed. All reports of missing people sit within a continuum of risk from ‘no apparent risk (absent)’ through to high-risk cases that require immediate, intensive action.  Risk assessment and response The risk assessment table The following table should be used as a guide to an appropriate level of police response based on initial and on-going risk assessment in each case. Risk assessment should be guided by the College of Policing Risk principles, the National Decision Model and Police Code of Ethics. No apparent risk (absent) There is no apparent risk of harm to either the subject or the public. Actions to locate the subject and/or gather further information should be agreed with the informant and a latest review time set to reassess the risk. Low risk The risk of harm to the subject or the public is assessed as possible but minimal. Proportionate enquiries should be carried out to ensure that the individual has not come to harm. Medium risk The risk of harm to the subject or the public is assessed as likely but not serious. This category requires an active and measured response by the police and other agencies in order to trace the missing person and support the person reporting.\n",
      "\n",
      "###\n",
      "\n",
      "The charity works closely with police forces across the UK and can offer a range of services to support missing person investigations. Missing People provides the following: Family support Police can refer families to Missing People for support at any point during an investigation. There is a 24-hour confidential helpline (116000) which provides emotional and practical advice and support. Publicity The charity coordinates national or local targeted publicity on behalf of the police using a variety of media. Publicity can also be limited to safeguarding organisations (such as hostels) and kept out of the public domain, via the charity’s support partner network. When a family member asks for publicity, the relevant force will be contacted to obtain consent. Missing People is experienced in managing high-profile cases and complex investigations. Sightings There is a 24-hour free phone helpline to take sightings from the public. Missing People manages sightings and information on behalf of the police so that information is fed quickly into the investigation. TextSafe® At police request, a message with the 116 000 number can be sent to a missing person’s phone so that they know how to reach free confidential support. Child Rescue Alert The NCA is the delivery partner for issuing Child Rescue Alert appeals to the public at large via SMS, email and social and digital media. Missing People offers a variety of additional services for missing people and their families including a 24-hour helpline for missing children and adults, and a ‘Reconnect’ service. Website: missingpeople.org.uk Tel: 116000 (24 hours) Email: [email protected] The Lucie Blackman Trust Previously known as Missing Abroad, the Lucie Blackman Trust Charity can offer a wealth of support to the families of missing persons, from coordinating international searches, to simply being someone to talk to. Other charities and services There are also a range of charities that work with families that require mental and emotional support and bereavement services, see Sources of support.   Back to Missing persons overview   Tags Missing persons        Was this page useful?  Yes  No   Do not provide personal information such as your name or email address in the feedback form.\n",
      "\n",
      "\n",
      "\n",
      "\n",
      "{\n",
      "  \"choices\": [\n",
      "    {\n",
      "      \"finish_reason\": \"stop\",\n",
      "      \"index\": 0,\n",
      "      \"message\": {\n",
      "        \"content\": \"Graded as high risk, because of the following factors:\\n\\nMargaret, a 97-year-old woman with severe dementia, has been missing for six hours, and it is now getting dark. Staff report that she is rarely missing for this long, and given her vulnerable state and her history of walking out when left unsupervised, there is a significant risk of harm to herself. Additionally, Margaret's lack of awareness due to her dementia renders her liable to poor decision-making, and she could unknowingly put herself in danger, especially since it has been raining heavily. Immediate urgent action needs to be taken to locate Margaret as soon as possible to prevent any potential harm.\",\n",
      "        \"role\": \"assistant\"\n",
      "      }\n",
      "    }\n",
      "  ],\n",
      "  \"created\": 1680967715,\n",
      "  \"id\": \"chatcmpl-734mRQU4hgwSd6H4GzZWYN2R3H7wF\",\n",
      "  \"model\": \"gpt-3.5-turbo-0301\",\n",
      "  \"object\": \"chat.completion\",\n",
      "  \"usage\": {\n",
      "    \"completion_tokens\": 134,\n",
      "    \"prompt_tokens\": 3871,\n",
      "    \"total_tokens\": 4005\n",
      "  }\n",
      "}\n",
      "\n",
      "\n",
      "\n",
      "\n"
     ]
    },
    {
     "data": {
      "text/plain": [
       "\"Graded as high risk, because of the following factors:\\n\\nMargaret, a 97-year-old woman with severe dementia, has been missing for six hours, and it is now getting dark. Staff report that she is rarely missing for this long, and given her vulnerable state and her history of walking out when left unsupervised, there is a significant risk of harm to herself. Additionally, Margaret's lack of awareness due to her dementia renders her liable to poor decision-making, and she could unknowingly put herself in danger, especially since it has been raining heavily. Immediate urgent action needs to be taken to locate Margaret as soon as possible to prevent any potential harm.\""
      ]
     },
     "execution_count": null,
     "metadata": {},
     "output_type": "execute_result"
    }
   ],
   "source": [
    "copbot_chat_risk_assessment(margaret_risk_profile, df, show_return_details=True, show_context=True)"
   ]
  },
  {
   "cell_type": "code",
   "execution_count": null,
   "metadata": {},
   "outputs": [],
   "source": []
  }
 ],
 "metadata": {
  "kernelspec": {
   "display_name": "python3",
   "language": "python",
   "name": "python3"
  }
 },
 "nbformat": 4,
 "nbformat_minor": 2
}
